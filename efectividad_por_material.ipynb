{
  "nbformat": 4,
  "nbformat_minor": 0,
  "metadata": {
    "colab": {
      "name": "efectividad_por_material.ipynb",
      "provenance": [],
      "collapsed_sections": []
    },
    "kernelspec": {
      "name": "python3",
      "display_name": "Python 3"
    },
    "language_info": {
      "name": "python"
    }
  },
  "cells": [
    {
      "cell_type": "code",
      "metadata": {
        "id": "Ur9zKWrA1yNN"
      },
      "source": [
        "import pandas as pd\n",
        "import numpy as np\n",
        "import seaborn as sns\n",
        "import matplotlib.pyplot as plt\n",
        "from datetime import date, time, datetime\n",
        "%matplotlib inline"
      ],
      "execution_count": 61,
      "outputs": []
    },
    {
      "cell_type": "code",
      "metadata": {
        "colab": {
          "base_uri": "https://localhost:8080/"
        },
        "id": "qqd8GHA04f4_",
        "outputId": "b2ce23f1-af0e-4a34-86eb-3e7be2a5cf94"
      },
      "source": [
        "train_labels = pd.read_csv('train_labels.csv')\n",
        "train_labels.shape"
      ],
      "execution_count": 62,
      "outputs": [
        {
          "output_type": "execute_result",
          "data": {
            "text/plain": [
              "(260601, 2)"
            ]
          },
          "metadata": {
            "tags": []
          },
          "execution_count": 62
        }
      ]
    },
    {
      "cell_type": "code",
      "metadata": {
        "colab": {
          "base_uri": "https://localhost:8080/"
        },
        "id": "O6zOiiNa54T_",
        "outputId": "bcc5462b-7905-4ff6-f891-23c47df3d3f3"
      },
      "source": [
        "train_values = pd.read_csv('train_values.csv', usecols=['building_id', \n",
        "                                                        'has_superstructure_adobe_mud', \n",
        "                                                        'has_superstructure_mud_mortar_stone', \n",
        "                                                        'has_superstructure_stone_flag',\n",
        "                                                        'has_superstructure_cement_mortar_stone',\n",
        "                                                        'has_superstructure_mud_mortar_brick',\n",
        "                                                        'has_superstructure_cement_mortar_brick',\n",
        "                                                        'has_superstructure_timber',\n",
        "                                                        'has_superstructure_bamboo', \n",
        "                                                        'has_superstructure_other'])\n",
        "train_values.shape"
      ],
      "execution_count": 63,
      "outputs": [
        {
          "output_type": "execute_result",
          "data": {
            "text/plain": [
              "(260601, 10)"
            ]
          },
          "metadata": {
            "tags": []
          },
          "execution_count": 63
        }
      ]
    },
    {
      "cell_type": "code",
      "metadata": {
        "colab": {
          "base_uri": "https://localhost:8080/",
          "height": 431
        },
        "id": "jO484HbP9nGY",
        "outputId": "d7b06de2-3ebf-4b19-d71f-1f6ca091c0e7"
      },
      "source": [
        "labels_and_values = train_labels.merge(train_values, how='inner')\n",
        "labels_and_values"
      ],
      "execution_count": 64,
      "outputs": [
        {
          "output_type": "execute_result",
          "data": {
            "text/html": [
              "<div>\n",
              "<style scoped>\n",
              "    .dataframe tbody tr th:only-of-type {\n",
              "        vertical-align: middle;\n",
              "    }\n",
              "\n",
              "    .dataframe tbody tr th {\n",
              "        vertical-align: top;\n",
              "    }\n",
              "\n",
              "    .dataframe thead th {\n",
              "        text-align: right;\n",
              "    }\n",
              "</style>\n",
              "<table border=\"1\" class=\"dataframe\">\n",
              "  <thead>\n",
              "    <tr style=\"text-align: right;\">\n",
              "      <th></th>\n",
              "      <th>building_id</th>\n",
              "      <th>damage_grade</th>\n",
              "      <th>has_superstructure_adobe_mud</th>\n",
              "      <th>has_superstructure_mud_mortar_stone</th>\n",
              "      <th>has_superstructure_stone_flag</th>\n",
              "      <th>has_superstructure_cement_mortar_stone</th>\n",
              "      <th>has_superstructure_mud_mortar_brick</th>\n",
              "      <th>has_superstructure_cement_mortar_brick</th>\n",
              "      <th>has_superstructure_timber</th>\n",
              "      <th>has_superstructure_bamboo</th>\n",
              "      <th>has_superstructure_other</th>\n",
              "    </tr>\n",
              "  </thead>\n",
              "  <tbody>\n",
              "    <tr>\n",
              "      <th>0</th>\n",
              "      <td>802906</td>\n",
              "      <td>3</td>\n",
              "      <td>1</td>\n",
              "      <td>1</td>\n",
              "      <td>0</td>\n",
              "      <td>0</td>\n",
              "      <td>0</td>\n",
              "      <td>0</td>\n",
              "      <td>0</td>\n",
              "      <td>0</td>\n",
              "      <td>0</td>\n",
              "    </tr>\n",
              "    <tr>\n",
              "      <th>1</th>\n",
              "      <td>28830</td>\n",
              "      <td>2</td>\n",
              "      <td>0</td>\n",
              "      <td>1</td>\n",
              "      <td>0</td>\n",
              "      <td>0</td>\n",
              "      <td>0</td>\n",
              "      <td>0</td>\n",
              "      <td>0</td>\n",
              "      <td>0</td>\n",
              "      <td>0</td>\n",
              "    </tr>\n",
              "    <tr>\n",
              "      <th>2</th>\n",
              "      <td>94947</td>\n",
              "      <td>3</td>\n",
              "      <td>0</td>\n",
              "      <td>1</td>\n",
              "      <td>0</td>\n",
              "      <td>0</td>\n",
              "      <td>0</td>\n",
              "      <td>0</td>\n",
              "      <td>0</td>\n",
              "      <td>0</td>\n",
              "      <td>0</td>\n",
              "    </tr>\n",
              "    <tr>\n",
              "      <th>3</th>\n",
              "      <td>590882</td>\n",
              "      <td>2</td>\n",
              "      <td>0</td>\n",
              "      <td>1</td>\n",
              "      <td>0</td>\n",
              "      <td>0</td>\n",
              "      <td>0</td>\n",
              "      <td>0</td>\n",
              "      <td>1</td>\n",
              "      <td>1</td>\n",
              "      <td>0</td>\n",
              "    </tr>\n",
              "    <tr>\n",
              "      <th>4</th>\n",
              "      <td>201944</td>\n",
              "      <td>3</td>\n",
              "      <td>1</td>\n",
              "      <td>0</td>\n",
              "      <td>0</td>\n",
              "      <td>0</td>\n",
              "      <td>0</td>\n",
              "      <td>0</td>\n",
              "      <td>0</td>\n",
              "      <td>0</td>\n",
              "      <td>0</td>\n",
              "    </tr>\n",
              "    <tr>\n",
              "      <th>...</th>\n",
              "      <td>...</td>\n",
              "      <td>...</td>\n",
              "      <td>...</td>\n",
              "      <td>...</td>\n",
              "      <td>...</td>\n",
              "      <td>...</td>\n",
              "      <td>...</td>\n",
              "      <td>...</td>\n",
              "      <td>...</td>\n",
              "      <td>...</td>\n",
              "      <td>...</td>\n",
              "    </tr>\n",
              "    <tr>\n",
              "      <th>260596</th>\n",
              "      <td>688636</td>\n",
              "      <td>2</td>\n",
              "      <td>0</td>\n",
              "      <td>1</td>\n",
              "      <td>0</td>\n",
              "      <td>0</td>\n",
              "      <td>0</td>\n",
              "      <td>0</td>\n",
              "      <td>0</td>\n",
              "      <td>0</td>\n",
              "      <td>0</td>\n",
              "    </tr>\n",
              "    <tr>\n",
              "      <th>260597</th>\n",
              "      <td>669485</td>\n",
              "      <td>3</td>\n",
              "      <td>0</td>\n",
              "      <td>1</td>\n",
              "      <td>0</td>\n",
              "      <td>0</td>\n",
              "      <td>0</td>\n",
              "      <td>0</td>\n",
              "      <td>0</td>\n",
              "      <td>0</td>\n",
              "      <td>0</td>\n",
              "    </tr>\n",
              "    <tr>\n",
              "      <th>260598</th>\n",
              "      <td>602512</td>\n",
              "      <td>3</td>\n",
              "      <td>0</td>\n",
              "      <td>1</td>\n",
              "      <td>0</td>\n",
              "      <td>0</td>\n",
              "      <td>0</td>\n",
              "      <td>0</td>\n",
              "      <td>0</td>\n",
              "      <td>0</td>\n",
              "      <td>0</td>\n",
              "    </tr>\n",
              "    <tr>\n",
              "      <th>260599</th>\n",
              "      <td>151409</td>\n",
              "      <td>2</td>\n",
              "      <td>0</td>\n",
              "      <td>0</td>\n",
              "      <td>0</td>\n",
              "      <td>0</td>\n",
              "      <td>0</td>\n",
              "      <td>1</td>\n",
              "      <td>0</td>\n",
              "      <td>0</td>\n",
              "      <td>0</td>\n",
              "    </tr>\n",
              "    <tr>\n",
              "      <th>260600</th>\n",
              "      <td>747594</td>\n",
              "      <td>3</td>\n",
              "      <td>0</td>\n",
              "      <td>1</td>\n",
              "      <td>0</td>\n",
              "      <td>0</td>\n",
              "      <td>0</td>\n",
              "      <td>0</td>\n",
              "      <td>0</td>\n",
              "      <td>0</td>\n",
              "      <td>0</td>\n",
              "    </tr>\n",
              "  </tbody>\n",
              "</table>\n",
              "<p>260601 rows × 11 columns</p>\n",
              "</div>"
            ],
            "text/plain": [
              "        building_id  ...  has_superstructure_other\n",
              "0            802906  ...                         0\n",
              "1             28830  ...                         0\n",
              "2             94947  ...                         0\n",
              "3            590882  ...                         0\n",
              "4            201944  ...                         0\n",
              "...             ...  ...                       ...\n",
              "260596       688636  ...                         0\n",
              "260597       669485  ...                         0\n",
              "260598       602512  ...                         0\n",
              "260599       151409  ...                         0\n",
              "260600       747594  ...                         0\n",
              "\n",
              "[260601 rows x 11 columns]"
            ]
          },
          "metadata": {
            "tags": []
          },
          "execution_count": 64
        }
      ]
    },
    {
      "cell_type": "code",
      "metadata": {
        "id": "UXGvrhJLB-Sr",
        "colab": {
          "base_uri": "https://localhost:8080/",
          "height": 321
        },
        "outputId": "d3004de9-43ca-483c-a26f-18e83615a9f3"
      },
      "source": [
        "por_daño = labels_and_values.groupby('damage_grade')\\\n",
        "                            .agg({'has_superstructure_adobe_mud':'sum', \n",
        "                                  'has_superstructure_mud_mortar_stone':'sum', \n",
        "                                  'has_superstructure_stone_flag':'sum',\n",
        "                                  'has_superstructure_cement_mortar_stone':'sum',\n",
        "                                  'has_superstructure_mud_mortar_brick':'sum',\n",
        "                                  'has_superstructure_cement_mortar_brick':'sum',\n",
        "                                  'has_superstructure_timber':'sum',\n",
        "                                  'has_superstructure_bamboo':'sum', \n",
        "                                  'has_superstructure_other':'sum'})\n",
        "por_daño = por_daño.T\n",
        "por_daño.index = ['adobe_mud',\n",
        "                    'mud_mortar_stone', \n",
        "                    'stone_flag',\n",
        "                    'cement_mortar_stone',\n",
        "                    'mud_mortar_brick',\n",
        "                    'cement_mortar_brick',\n",
        "                    'timber',\n",
        "                    'bamboo', \n",
        "                    'other']\n",
        "por_daño"
      ],
      "execution_count": 65,
      "outputs": [
        {
          "output_type": "execute_result",
          "data": {
            "text/html": [
              "<div>\n",
              "<style scoped>\n",
              "    .dataframe tbody tr th:only-of-type {\n",
              "        vertical-align: middle;\n",
              "    }\n",
              "\n",
              "    .dataframe tbody tr th {\n",
              "        vertical-align: top;\n",
              "    }\n",
              "\n",
              "    .dataframe thead th {\n",
              "        text-align: right;\n",
              "    }\n",
              "</style>\n",
              "<table border=\"1\" class=\"dataframe\">\n",
              "  <thead>\n",
              "    <tr style=\"text-align: right;\">\n",
              "      <th>damage_grade</th>\n",
              "      <th>1</th>\n",
              "      <th>2</th>\n",
              "      <th>3</th>\n",
              "    </tr>\n",
              "  </thead>\n",
              "  <tbody>\n",
              "    <tr>\n",
              "      <th>adobe_mud</th>\n",
              "      <td>594</td>\n",
              "      <td>13902</td>\n",
              "      <td>8605</td>\n",
              "    </tr>\n",
              "    <tr>\n",
              "      <th>mud_mortar_stone</th>\n",
              "      <td>8760</td>\n",
              "      <td>113947</td>\n",
              "      <td>75854</td>\n",
              "    </tr>\n",
              "    <tr>\n",
              "      <th>stone_flag</th>\n",
              "      <td>182</td>\n",
              "      <td>4534</td>\n",
              "      <td>4231</td>\n",
              "    </tr>\n",
              "    <tr>\n",
              "      <th>cement_mortar_stone</th>\n",
              "      <td>829</td>\n",
              "      <td>3248</td>\n",
              "      <td>675</td>\n",
              "    </tr>\n",
              "    <tr>\n",
              "      <th>mud_mortar_brick</th>\n",
              "      <td>623</td>\n",
              "      <td>11698</td>\n",
              "      <td>5440</td>\n",
              "    </tr>\n",
              "    <tr>\n",
              "      <th>cement_mortar_brick</th>\n",
              "      <td>7105</td>\n",
              "      <td>11421</td>\n",
              "      <td>1089</td>\n",
              "    </tr>\n",
              "    <tr>\n",
              "      <th>timber</th>\n",
              "      <td>7642</td>\n",
              "      <td>40187</td>\n",
              "      <td>18621</td>\n",
              "    </tr>\n",
              "    <tr>\n",
              "      <th>bamboo</th>\n",
              "      <td>2839</td>\n",
              "      <td>14001</td>\n",
              "      <td>5314</td>\n",
              "    </tr>\n",
              "    <tr>\n",
              "      <th>other</th>\n",
              "      <td>656</td>\n",
              "      <td>2248</td>\n",
              "      <td>1001</td>\n",
              "    </tr>\n",
              "  </tbody>\n",
              "</table>\n",
              "</div>"
            ],
            "text/plain": [
              "damage_grade            1       2      3\n",
              "adobe_mud             594   13902   8605\n",
              "mud_mortar_stone     8760  113947  75854\n",
              "stone_flag            182    4534   4231\n",
              "cement_mortar_stone   829    3248    675\n",
              "mud_mortar_brick      623   11698   5440\n",
              "cement_mortar_brick  7105   11421   1089\n",
              "timber               7642   40187  18621\n",
              "bamboo               2839   14001   5314\n",
              "other                 656    2248   1001"
            ]
          },
          "metadata": {
            "tags": []
          },
          "execution_count": 65
        }
      ]
    },
    {
      "cell_type": "code",
      "metadata": {
        "colab": {
          "base_uri": "https://localhost:8080/",
          "height": 321
        },
        "id": "2GU7hcZuUnLf",
        "outputId": "76b4b290-cc5c-4c96-e278-c8c199d63d49"
      },
      "source": [
        "por_daño['buildings_por_material'] = por_daño[1] + por_daño[2] + por_daño[3]\n",
        "por_daño"
      ],
      "execution_count": 66,
      "outputs": [
        {
          "output_type": "execute_result",
          "data": {
            "text/html": [
              "<div>\n",
              "<style scoped>\n",
              "    .dataframe tbody tr th:only-of-type {\n",
              "        vertical-align: middle;\n",
              "    }\n",
              "\n",
              "    .dataframe tbody tr th {\n",
              "        vertical-align: top;\n",
              "    }\n",
              "\n",
              "    .dataframe thead th {\n",
              "        text-align: right;\n",
              "    }\n",
              "</style>\n",
              "<table border=\"1\" class=\"dataframe\">\n",
              "  <thead>\n",
              "    <tr style=\"text-align: right;\">\n",
              "      <th>damage_grade</th>\n",
              "      <th>1</th>\n",
              "      <th>2</th>\n",
              "      <th>3</th>\n",
              "      <th>buildings_por_material</th>\n",
              "    </tr>\n",
              "  </thead>\n",
              "  <tbody>\n",
              "    <tr>\n",
              "      <th>adobe_mud</th>\n",
              "      <td>594</td>\n",
              "      <td>13902</td>\n",
              "      <td>8605</td>\n",
              "      <td>23101</td>\n",
              "    </tr>\n",
              "    <tr>\n",
              "      <th>mud_mortar_stone</th>\n",
              "      <td>8760</td>\n",
              "      <td>113947</td>\n",
              "      <td>75854</td>\n",
              "      <td>198561</td>\n",
              "    </tr>\n",
              "    <tr>\n",
              "      <th>stone_flag</th>\n",
              "      <td>182</td>\n",
              "      <td>4534</td>\n",
              "      <td>4231</td>\n",
              "      <td>8947</td>\n",
              "    </tr>\n",
              "    <tr>\n",
              "      <th>cement_mortar_stone</th>\n",
              "      <td>829</td>\n",
              "      <td>3248</td>\n",
              "      <td>675</td>\n",
              "      <td>4752</td>\n",
              "    </tr>\n",
              "    <tr>\n",
              "      <th>mud_mortar_brick</th>\n",
              "      <td>623</td>\n",
              "      <td>11698</td>\n",
              "      <td>5440</td>\n",
              "      <td>17761</td>\n",
              "    </tr>\n",
              "    <tr>\n",
              "      <th>cement_mortar_brick</th>\n",
              "      <td>7105</td>\n",
              "      <td>11421</td>\n",
              "      <td>1089</td>\n",
              "      <td>19615</td>\n",
              "    </tr>\n",
              "    <tr>\n",
              "      <th>timber</th>\n",
              "      <td>7642</td>\n",
              "      <td>40187</td>\n",
              "      <td>18621</td>\n",
              "      <td>66450</td>\n",
              "    </tr>\n",
              "    <tr>\n",
              "      <th>bamboo</th>\n",
              "      <td>2839</td>\n",
              "      <td>14001</td>\n",
              "      <td>5314</td>\n",
              "      <td>22154</td>\n",
              "    </tr>\n",
              "    <tr>\n",
              "      <th>other</th>\n",
              "      <td>656</td>\n",
              "      <td>2248</td>\n",
              "      <td>1001</td>\n",
              "      <td>3905</td>\n",
              "    </tr>\n",
              "  </tbody>\n",
              "</table>\n",
              "</div>"
            ],
            "text/plain": [
              "damage_grade            1       2      3  buildings_por_material\n",
              "adobe_mud             594   13902   8605                   23101\n",
              "mud_mortar_stone     8760  113947  75854                  198561\n",
              "stone_flag            182    4534   4231                    8947\n",
              "cement_mortar_stone   829    3248    675                    4752\n",
              "mud_mortar_brick      623   11698   5440                   17761\n",
              "cement_mortar_brick  7105   11421   1089                   19615\n",
              "timber               7642   40187  18621                   66450\n",
              "bamboo               2839   14001   5314                   22154\n",
              "other                 656    2248   1001                    3905"
            ]
          },
          "metadata": {
            "tags": []
          },
          "execution_count": 66
        }
      ]
    },
    {
      "cell_type": "code",
      "metadata": {
        "colab": {
          "base_uri": "https://localhost:8080/",
          "height": 315
        },
        "id": "RlIvGxgSd5il",
        "outputId": "6c039593-f98f-483e-d375-ef1c2b40d932"
      },
      "source": [
        "por_daño[[1, 2, 3]].plot(kind=\"barh\", stacked=True)\n",
        "plt.title(\"Edificaciones por Material\", fontsize=15)\n",
        "plt.xlabel(\"Cantidad edificaciones\")\n",
        "plt.ylabel(\"Material\")"
      ],
      "execution_count": 76,
      "outputs": [
        {
          "output_type": "execute_result",
          "data": {
            "text/plain": [
              "Text(0, 0.5, 'Material')"
            ]
          },
          "metadata": {
            "tags": []
          },
          "execution_count": 76
        },
        {
          "output_type": "display_data",
          "data": {
            "image/png": "[encoded data removed]",
            "text/plain": [
              "<Figure size 432x288 with 1 Axes>"
            ]
          },
          "metadata": {
            "tags": [],
            "needs_background": "light"
          }
        }
      ]
    },
    {
      "cell_type": "code",
      "metadata": {
        "id": "ciaVTl8aWXrA",
        "colab": {
          "base_uri": "https://localhost:8080/",
          "height": 321
        },
        "outputId": "891459e1-3f22-44f7-bf2e-4c1c065de217"
      },
      "source": [
        "por_daño['efectividad'] = por_daño[1]/por_daño['buildings_por_material']\n",
        "por_daño"
      ],
      "execution_count": 68,
      "outputs": [
        {
          "output_type": "execute_result",
          "data": {
            "text/html": [
              "<div>\n",
              "<style scoped>\n",
              "    .dataframe tbody tr th:only-of-type {\n",
              "        vertical-align: middle;\n",
              "    }\n",
              "\n",
              "    .dataframe tbody tr th {\n",
              "        vertical-align: top;\n",
              "    }\n",
              "\n",
              "    .dataframe thead th {\n",
              "        text-align: right;\n",
              "    }\n",
              "</style>\n",
              "<table border=\"1\" class=\"dataframe\">\n",
              "  <thead>\n",
              "    <tr style=\"text-align: right;\">\n",
              "      <th>damage_grade</th>\n",
              "      <th>1</th>\n",
              "      <th>2</th>\n",
              "      <th>3</th>\n",
              "      <th>buildings_por_material</th>\n",
              "      <th>efectividad</th>\n",
              "    </tr>\n",
              "  </thead>\n",
              "  <tbody>\n",
              "    <tr>\n",
              "      <th>adobe_mud</th>\n",
              "      <td>594</td>\n",
              "      <td>13902</td>\n",
              "      <td>8605</td>\n",
              "      <td>23101</td>\n",
              "      <td>0.025713</td>\n",
              "    </tr>\n",
              "    <tr>\n",
              "      <th>mud_mortar_stone</th>\n",
              "      <td>8760</td>\n",
              "      <td>113947</td>\n",
              "      <td>75854</td>\n",
              "      <td>198561</td>\n",
              "      <td>0.044117</td>\n",
              "    </tr>\n",
              "    <tr>\n",
              "      <th>stone_flag</th>\n",
              "      <td>182</td>\n",
              "      <td>4534</td>\n",
              "      <td>4231</td>\n",
              "      <td>8947</td>\n",
              "      <td>0.020342</td>\n",
              "    </tr>\n",
              "    <tr>\n",
              "      <th>cement_mortar_stone</th>\n",
              "      <td>829</td>\n",
              "      <td>3248</td>\n",
              "      <td>675</td>\n",
              "      <td>4752</td>\n",
              "      <td>0.174453</td>\n",
              "    </tr>\n",
              "    <tr>\n",
              "      <th>mud_mortar_brick</th>\n",
              "      <td>623</td>\n",
              "      <td>11698</td>\n",
              "      <td>5440</td>\n",
              "      <td>17761</td>\n",
              "      <td>0.035077</td>\n",
              "    </tr>\n",
              "    <tr>\n",
              "      <th>cement_mortar_brick</th>\n",
              "      <td>7105</td>\n",
              "      <td>11421</td>\n",
              "      <td>1089</td>\n",
              "      <td>19615</td>\n",
              "      <td>0.362223</td>\n",
              "    </tr>\n",
              "    <tr>\n",
              "      <th>timber</th>\n",
              "      <td>7642</td>\n",
              "      <td>40187</td>\n",
              "      <td>18621</td>\n",
              "      <td>66450</td>\n",
              "      <td>0.115004</td>\n",
              "    </tr>\n",
              "    <tr>\n",
              "      <th>bamboo</th>\n",
              "      <td>2839</td>\n",
              "      <td>14001</td>\n",
              "      <td>5314</td>\n",
              "      <td>22154</td>\n",
              "      <td>0.128148</td>\n",
              "    </tr>\n",
              "    <tr>\n",
              "      <th>other</th>\n",
              "      <td>656</td>\n",
              "      <td>2248</td>\n",
              "      <td>1001</td>\n",
              "      <td>3905</td>\n",
              "      <td>0.167990</td>\n",
              "    </tr>\n",
              "  </tbody>\n",
              "</table>\n",
              "</div>"
            ],
            "text/plain": [
              "damage_grade            1       2      3  buildings_por_material  efectividad\n",
              "adobe_mud             594   13902   8605                   23101     0.025713\n",
              "mud_mortar_stone     8760  113947  75854                  198561     0.044117\n",
              "stone_flag            182    4534   4231                    8947     0.020342\n",
              "cement_mortar_stone   829    3248    675                    4752     0.174453\n",
              "mud_mortar_brick      623   11698   5440                   17761     0.035077\n",
              "cement_mortar_brick  7105   11421   1089                   19615     0.362223\n",
              "timber               7642   40187  18621                   66450     0.115004\n",
              "bamboo               2839   14001   5314                   22154     0.128148\n",
              "other                 656    2248   1001                    3905     0.167990"
            ]
          },
          "metadata": {
            "tags": []
          },
          "execution_count": 68
        }
      ]
    },
    {
      "cell_type": "code",
      "metadata": {
        "colab": {
          "base_uri": "https://localhost:8080/",
          "height": 321
        },
        "id": "jogfS8sTo1G2",
        "outputId": "c32b5a17-fd9f-4519-cea3-54732f04c134"
      },
      "source": [
        "por_daño['deficiencia'] = por_daño[3]/por_daño['buildings_por_material']\n",
        "por_daño"
      ],
      "execution_count": 69,
      "outputs": [
        {
          "output_type": "execute_result",
          "data": {
            "text/html": [
              "<div>\n",
              "<style scoped>\n",
              "    .dataframe tbody tr th:only-of-type {\n",
              "        vertical-align: middle;\n",
              "    }\n",
              "\n",
              "    .dataframe tbody tr th {\n",
              "        vertical-align: top;\n",
              "    }\n",
              "\n",
              "    .dataframe thead th {\n",
              "        text-align: right;\n",
              "    }\n",
              "</style>\n",
              "<table border=\"1\" class=\"dataframe\">\n",
              "  <thead>\n",
              "    <tr style=\"text-align: right;\">\n",
              "      <th>damage_grade</th>\n",
              "      <th>1</th>\n",
              "      <th>2</th>\n",
              "      <th>3</th>\n",
              "      <th>buildings_por_material</th>\n",
              "      <th>efectividad</th>\n",
              "      <th>deficiencia</th>\n",
              "    </tr>\n",
              "  </thead>\n",
              "  <tbody>\n",
              "    <tr>\n",
              "      <th>adobe_mud</th>\n",
              "      <td>594</td>\n",
              "      <td>13902</td>\n",
              "      <td>8605</td>\n",
              "      <td>23101</td>\n",
              "      <td>0.025713</td>\n",
              "      <td>0.372495</td>\n",
              "    </tr>\n",
              "    <tr>\n",
              "      <th>mud_mortar_stone</th>\n",
              "      <td>8760</td>\n",
              "      <td>113947</td>\n",
              "      <td>75854</td>\n",
              "      <td>198561</td>\n",
              "      <td>0.044117</td>\n",
              "      <td>0.382019</td>\n",
              "    </tr>\n",
              "    <tr>\n",
              "      <th>stone_flag</th>\n",
              "      <td>182</td>\n",
              "      <td>4534</td>\n",
              "      <td>4231</td>\n",
              "      <td>8947</td>\n",
              "      <td>0.020342</td>\n",
              "      <td>0.472896</td>\n",
              "    </tr>\n",
              "    <tr>\n",
              "      <th>cement_mortar_stone</th>\n",
              "      <td>829</td>\n",
              "      <td>3248</td>\n",
              "      <td>675</td>\n",
              "      <td>4752</td>\n",
              "      <td>0.174453</td>\n",
              "      <td>0.142045</td>\n",
              "    </tr>\n",
              "    <tr>\n",
              "      <th>mud_mortar_brick</th>\n",
              "      <td>623</td>\n",
              "      <td>11698</td>\n",
              "      <td>5440</td>\n",
              "      <td>17761</td>\n",
              "      <td>0.035077</td>\n",
              "      <td>0.306289</td>\n",
              "    </tr>\n",
              "    <tr>\n",
              "      <th>cement_mortar_brick</th>\n",
              "      <td>7105</td>\n",
              "      <td>11421</td>\n",
              "      <td>1089</td>\n",
              "      <td>19615</td>\n",
              "      <td>0.362223</td>\n",
              "      <td>0.055519</td>\n",
              "    </tr>\n",
              "    <tr>\n",
              "      <th>timber</th>\n",
              "      <td>7642</td>\n",
              "      <td>40187</td>\n",
              "      <td>18621</td>\n",
              "      <td>66450</td>\n",
              "      <td>0.115004</td>\n",
              "      <td>0.280226</td>\n",
              "    </tr>\n",
              "    <tr>\n",
              "      <th>bamboo</th>\n",
              "      <td>2839</td>\n",
              "      <td>14001</td>\n",
              "      <td>5314</td>\n",
              "      <td>22154</td>\n",
              "      <td>0.128148</td>\n",
              "      <td>0.239866</td>\n",
              "    </tr>\n",
              "    <tr>\n",
              "      <th>other</th>\n",
              "      <td>656</td>\n",
              "      <td>2248</td>\n",
              "      <td>1001</td>\n",
              "      <td>3905</td>\n",
              "      <td>0.167990</td>\n",
              "      <td>0.256338</td>\n",
              "    </tr>\n",
              "  </tbody>\n",
              "</table>\n",
              "</div>"
            ],
            "text/plain": [
              "damage_grade            1       2  ...  efectividad  deficiencia\n",
              "adobe_mud             594   13902  ...     0.025713     0.372495\n",
              "mud_mortar_stone     8760  113947  ...     0.044117     0.382019\n",
              "stone_flag            182    4534  ...     0.020342     0.472896\n",
              "cement_mortar_stone   829    3248  ...     0.174453     0.142045\n",
              "mud_mortar_brick      623   11698  ...     0.035077     0.306289\n",
              "cement_mortar_brick  7105   11421  ...     0.362223     0.055519\n",
              "timber               7642   40187  ...     0.115004     0.280226\n",
              "bamboo               2839   14001  ...     0.128148     0.239866\n",
              "other                 656    2248  ...     0.167990     0.256338\n",
              "\n",
              "[9 rows x 6 columns]"
            ]
          },
          "metadata": {
            "tags": []
          },
          "execution_count": 69
        }
      ]
    },
    {
      "cell_type": "code",
      "metadata": {
        "colab": {
          "base_uri": "https://localhost:8080/",
          "height": 301
        },
        "id": "DrH14pOTgS-J",
        "outputId": "21127695-173d-4a8a-80c6-a24f831cb797"
      },
      "source": [
        "por_daño[['efectividad', 'deficiencia']].plot(kind=\"barh\")\n",
        "plt.title(\"Efectividad-vs-Deficiencia por Material\", fontsize=15)\n",
        "plt.ylabel(\"Material\")\n",
        "plt.legend([\"Efectividad\", \"Deficiencia\"])"
      ],
      "execution_count": 77,
      "outputs": [
        {
          "output_type": "execute_result",
          "data": {
            "text/plain": [
              "<matplotlib.legend.Legend at 0x7fe46d6df410>"
            ]
          },
          "metadata": {
            "tags": []
          },
          "execution_count": 77
        },
        {
          "output_type": "display_data",
          "data": {
            "image/png": "[encoded data removed]",
            "text/plain": [
              "<Figure size 432x288 with 1 Axes>"
            ]
          },
          "metadata": {
            "tags": [],
            "needs_background": "light"
          }
        }
      ]
    }
  ]
}